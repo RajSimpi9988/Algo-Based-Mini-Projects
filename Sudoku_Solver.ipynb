{
  "nbformat": 4,
  "nbformat_minor": 0,
  "metadata": {
    "colab": {
      "provenance": [],
      "authorship_tag": "ABX9TyOFjeQs0cmJ4mD3a3alvuoz",
      "include_colab_link": true
    },
    "kernelspec": {
      "name": "python3",
      "display_name": "Python 3"
    },
    "language_info": {
      "name": "python"
    }
  },
  "cells": [
    {
      "cell_type": "markdown",
      "metadata": {
        "id": "view-in-github",
        "colab_type": "text"
      },
      "source": [
        "<a href=\"https://colab.research.google.com/github/RajSimpi9988/Algo-Based-Projects-/blob/main/Sudoku_Solver.ipynb\" target=\"_parent\"><img src=\"https://colab.research.google.com/assets/colab-badge.svg\" alt=\"Open In Colab\"/></a>"
      ]
    },
    {
      "cell_type": "markdown",
      "source": [
        "Sudoku Solver\n"
      ],
      "metadata": {
        "id": "Ze-lMpecpsMr"
      }
    },
    {
      "cell_type": "code",
      "execution_count": 19,
      "metadata": {
        "id": "tZ4ITaHAhdjr"
      },
      "outputs": [],
      "source": [
        "# Importing the basic libraries\n",
        "\n",
        "import numpy as np"
      ]
    },
    {
      "cell_type": "markdown",
      "source": [
        "The 9x9 Grid "
      ],
      "metadata": {
        "id": "nLlcpkAlq0KQ"
      }
    },
    {
      "cell_type": "code",
      "source": [
        "grid = [[0,8,0,5,4,2,0,7,6],\n",
        "        [0,0,7,0,6,9,0,8,0],\n",
        "        [4,0,0,8,0,0,2,0,5],\n",
        "        [9,0,0,6,3,5,0,0,4],\n",
        "        [3,4,6,0,8,0,5,9,7],\n",
        "        [0,0,5,9,7,4,6,0,3],\n",
        "        [0,3,8,0,0,6,0,0,9],\n",
        "        [6,1,0,4,9,3,7,5,8],\n",
        "        [7,9,4,0,5,8,3,6,0]]"
      ],
      "metadata": {
        "id": "0_FfCv72p0ou"
      },
      "execution_count": 30,
      "outputs": []
    },
    {
      "cell_type": "code",
      "source": [
        "print (np.matrix(grid))"
      ],
      "metadata": {
        "colab": {
          "base_uri": "https://localhost:8080/"
        },
        "id": "CgOh744_qb1L",
        "outputId": "70ea1ae5-070e-489c-e203-67fe4f4e7632"
      },
      "execution_count": 31,
      "outputs": [
        {
          "output_type": "stream",
          "name": "stdout",
          "text": [
            "[[0 8 0 5 4 2 0 7 6]\n",
            " [0 0 7 0 6 9 0 8 0]\n",
            " [4 0 0 8 0 0 2 0 5]\n",
            " [9 0 0 6 3 5 0 0 4]\n",
            " [3 4 6 0 8 0 5 9 7]\n",
            " [0 0 5 9 7 4 6 0 3]\n",
            " [0 3 8 0 0 6 0 0 9]\n",
            " [6 1 0 4 9 3 7 5 8]\n",
            " [7 9 4 0 5 8 3 6 0]]\n"
          ]
        }
      ]
    },
    {
      "cell_type": "markdown",
      "source": [
        "Defining the possible moves"
      ],
      "metadata": {
        "id": "wpsEvfjQq_F5"
      }
    },
    {
      "cell_type": "code",
      "source": [
        "def possible(row, coloumn, number):\n",
        "  global grid\n",
        "  # number appearance in the given row \n",
        "  for i in range(0,9):\n",
        "    if grid[row][i] == number:\n",
        "      return False\n",
        "  \n",
        "  # number appearance in the given column\n",
        "  for i in range(0,9):\n",
        "    if grid[i][coloumn] == number:\n",
        "      return False\n",
        "\n",
        "  # number appearance in the given 3x3 nonet\n",
        "\n",
        "  x0 = (coloumn // 3) * 3\n",
        "  y0 = (row // 3) *3\n",
        "  for i in range(0,3):\n",
        "    for j in range(0,3):\n",
        "      if grid[y0+i][x0+j] == number:\n",
        "        return False \n",
        "  return True "
      ],
      "metadata": {
        "id": "VWcl1rtJq83r"
      },
      "execution_count": 32,
      "outputs": []
    },
    {
      "cell_type": "markdown",
      "source": [
        "Defining the legal moves "
      ],
      "metadata": {
        "id": "uAXuAwb-ss-1"
      }
    },
    {
      "cell_type": "code",
      "source": [
        "def solve():\n",
        "    global grid\n",
        "    for row in range(0,9):\n",
        "      for coloumn in range (0,9):\n",
        "        if grid[row][coloumn] == 0:\n",
        "          for number in range(1,10):\n",
        "            if possible(row, coloumn, number):\n",
        "                grid[row][coloumn] = number\n",
        "                solve()\n",
        "                grid[row][coloumn]= 0\n",
        "          return\n",
        "\n",
        "    print (np.matrix(grid))\n",
        "solve()"
      ],
      "metadata": {
        "colab": {
          "base_uri": "https://localhost:8080/"
        },
        "id": "KhI2-PJjsg6b",
        "outputId": "4adfdb3b-f522-4ea7-b7f3-0007cd213622"
      },
      "execution_count": 37,
      "outputs": [
        {
          "output_type": "stream",
          "name": "stdout",
          "text": [
            "[[1 8 3 5 4 2 9 7 6]\n",
            " [2 5 7 3 6 9 4 8 1]\n",
            " [4 6 9 8 1 7 2 3 5]\n",
            " [9 7 1 6 3 5 8 2 4]\n",
            " [3 4 6 2 8 1 5 9 7]\n",
            " [8 2 5 9 7 4 6 1 3]\n",
            " [5 3 8 7 2 6 1 4 9]\n",
            " [6 1 2 4 9 3 7 5 8]\n",
            " [7 9 4 1 5 8 3 6 2]]\n"
          ]
        }
      ]
    }
  ]
}