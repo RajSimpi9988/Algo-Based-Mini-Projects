{
  "nbformat": 4,
  "nbformat_minor": 0,
  "metadata": {
    "colab": {
      "provenance": [],
      "authorship_tag": "ABX9TyPLa6lTC5uUcD/5D+NAaf0c",
      "include_colab_link": true
    },
    "kernelspec": {
      "name": "python3",
      "display_name": "Python 3"
    },
    "language_info": {
      "name": "python"
    }
  },
  "cells": [
    {
      "cell_type": "markdown",
      "metadata": {
        "id": "view-in-github",
        "colab_type": "text"
      },
      "source": [
        "<a href=\"https://colab.research.google.com/github/RajSimpi9988/Algo-Based-Projects-/blob/main/Sudoku_Solver.ipynb\" target=\"_parent\"><img src=\"https://colab.research.google.com/assets/colab-badge.svg\" alt=\"Open In Colab\"/></a>"
      ]
    },
    {
      "cell_type": "markdown",
      "source": [
        "Sudoku Solver\n"
      ],
      "metadata": {
        "id": "Ze-lMpecpsMr"
      }
    },
    {
      "cell_type": "code",
      "execution_count": 19,
      "metadata": {
        "id": "tZ4ITaHAhdjr"
      },
      "outputs": [],
      "source": [
        "# Importing the basic libraries\n",
        "\n",
        "import numpy as np"
      ]
    },
    {
      "cell_type": "markdown",
      "source": [
        "The 9x9 Grid "
      ],
      "metadata": {
        "id": "nLlcpkAlq0KQ"
      }
    },
    {
      "cell_type": "code",
      "source": [
        "grid = [[5,3,0,0,7,0,0,0,0],\n",
        "        [6,0,0,1,9,5,0,0,0],\n",
        "        [0,9,8,0,0,0,0,6,0],\n",
        "        [8,0,0,0,6,0,0,0,3],\n",
        "        [4,0,0,8,0,3,0,0,1],\n",
        "        [7,0,0,0,2,0,0,0,6],\n",
        "        [0,6,0,0,0,0,2,8,0],\n",
        "        [0,0,0,4,1,9,0,0,5],\n",
        "        [0,0,0,0,8,0,0,0,0]]"
      ],
      "metadata": {
        "id": "0_FfCv72p0ou"
      },
      "execution_count": 27,
      "outputs": []
    },
    {
      "cell_type": "code",
      "source": [
        "print (np.matrix(grid))"
      ],
      "metadata": {
        "colab": {
          "base_uri": "https://localhost:8080/"
        },
        "id": "CgOh744_qb1L",
        "outputId": "f462529c-0eff-4e8c-8587-6b8d68750071"
      },
      "execution_count": 21,
      "outputs": [
        {
          "output_type": "stream",
          "name": "stdout",
          "text": [
            "[[5 3 0 0 7 0 0 0 0]\n",
            " [6 0 0 1 9 5 0 0 0]\n",
            " [0 9 8 0 0 0 0 6 0]\n",
            " [8 0 0 0 6 0 0 0 3]\n",
            " [4 0 0 8 0 3 0 0 1]\n",
            " [7 0 0 0 2 0 0 0 6]\n",
            " [0 6 0 0 0 0 2 8 0]\n",
            " [0 0 0 4 1 9 0 0 5]\n",
            " [0 0 0 0 8 0 0 0 0]]\n"
          ]
        }
      ]
    },
    {
      "cell_type": "markdown",
      "source": [
        "Defining the possible moves"
      ],
      "metadata": {
        "id": "wpsEvfjQq_F5"
      }
    },
    {
      "cell_type": "code",
      "source": [
        "def possible(row, coloumn, number):\n",
        "  global grid\n",
        "  # number appearance in the given row \n",
        "  for i in range(0,9):\n",
        "    if grid[row][i] == number:\n",
        "      return False\n",
        "  \n",
        "  # number appearance in the given column\n",
        "  for i in range(0,9):\n",
        "    if grid[i][coloumn] == number:\n",
        "      return False\n",
        "\n",
        "  # number appearance in the given 3x3 nonet\n",
        "\n",
        "  x0 = (coloumn // 3) * 3\n",
        "  y0 = (row // 3) *3\n",
        "  for i in range(0,3):\n",
        "    for j in range(0,3):\n",
        "      if grid[y0+i][x0+j] == number:\n",
        "        return False \n",
        "  return True "
      ],
      "metadata": {
        "id": "VWcl1rtJq83r"
      },
      "execution_count": 22,
      "outputs": []
    },
    {
      "cell_type": "markdown",
      "source": [
        "Defining the legal moves "
      ],
      "metadata": {
        "id": "uAXuAwb-ss-1"
      }
    },
    {
      "cell_type": "code",
      "source": [
        "def solve():\n",
        "    global grid\n",
        "    for row in range(0,9):\n",
        "      for coloumn in range (0,9):\n",
        "        if grid[row][coloumn] == 0:\n",
        "          for number in range(1,10):\n",
        "            if possible(row, coloumn, number):\n",
        "                grid[row][coloumn] = number\n",
        "                solve()\n",
        "                grid[row][coloumn]= 0\n",
        "          return\n",
        "\n",
        "    print (np.matrix(grid))\n",
        "    input('More Posiible Solutions')\n",
        "\n",
        "solve()"
      ],
      "metadata": {
        "colab": {
          "base_uri": "https://localhost:8080/"
        },
        "id": "KhI2-PJjsg6b",
        "outputId": "d3adbbbe-afee-40d7-b55f-7f01abcd42d0"
      },
      "execution_count": 28,
      "outputs": [
        {
          "name": "stdout",
          "output_type": "stream",
          "text": [
            "[[5 3 4 6 7 8 1 9 2]\n",
            " [6 7 2 1 9 5 3 4 8]\n",
            " [1 9 8 3 4 2 5 6 7]\n",
            " [8 5 9 7 6 1 4 2 3]\n",
            " [4 2 6 8 5 3 9 7 1]\n",
            " [7 1 3 9 2 4 8 5 6]\n",
            " [9 6 1 5 3 7 2 8 4]\n",
            " [2 8 7 4 1 9 6 3 5]\n",
            " [3 4 5 2 8 6 7 1 9]]\n",
            "More Posiible Solutions10\n",
            "[[5 3 4 6 7 8 9 1 2]\n",
            " [6 7 2 1 9 5 3 4 8]\n",
            " [1 9 8 3 4 2 5 6 7]\n",
            " [8 5 9 7 6 1 4 2 3]\n",
            " [4 2 6 8 5 3 7 9 1]\n",
            " [7 1 3 9 2 4 8 5 6]\n",
            " [9 6 1 5 3 7 2 8 4]\n",
            " [2 8 7 4 1 9 6 3 5]\n",
            " [3 4 5 2 8 6 1 7 9]]\n",
            "More Posiible Solutions5\n"
          ]
        }
      ]
    },
    {
      "cell_type": "code",
      "source": [],
      "metadata": {
        "id": "ueCKCZCcx80y"
      },
      "execution_count": null,
      "outputs": []
    }
  ]
}